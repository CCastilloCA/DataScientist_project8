{
 "cells": [
  {
   "cell_type": "markdown",
   "metadata": {},
   "source": [
    "# Proyecto sprint 8"
   ]
  },
  {
   "cell_type": "markdown",
   "metadata": {},
   "source": [
    "El objetivo del proyecto es desarrollar un modelo de clasificación que analice el comportamiento de los clientes de la compañía móvil Megaline y recomiende uno de los dos nuevos planes disponibles: Smart o Ultra. Utilizando datos previamente procesados, se busca alcanzar una precisión de al menos 0.75 en la clasificación de los clientes hacia el plan más adecuado, con el fin de fomentar la migración de los usuarios de planes heredados a los nuevos planes ofrecidos por Megaline."
   ]
  },
  {
   "cell_type": "markdown",
   "metadata": {},
   "source": [
    "### 1. Abre y examina el archivo de datos."
   ]
  },
  {
   "cell_type": "code",
   "execution_count": 2,
   "metadata": {},
   "outputs": [],
   "source": [
    "#Carga de librerías\n",
    "import pandas as pd\n",
    "from sklearn.model_selection import train_test_split\n",
    "from sklearn.ensemble import RandomForestClassifier\n",
    "from sklearn.metrics import accuracy_score\n",
    "from sklearn.metrics import mean_squared_error"
   ]
  },
  {
   "cell_type": "code",
   "execution_count": 3,
   "metadata": {},
   "outputs": [],
   "source": [
    "#Cargar archivo del DataFrame\n",
    "df = pd.read_csv('users_behavior.csv')"
   ]
  },
  {
   "cell_type": "code",
   "execution_count": 4,
   "metadata": {},
   "outputs": [
    {
     "data": {
      "text/html": [
       "<div>\n",
       "<style scoped>\n",
       "    .dataframe tbody tr th:only-of-type {\n",
       "        vertical-align: middle;\n",
       "    }\n",
       "\n",
       "    .dataframe tbody tr th {\n",
       "        vertical-align: top;\n",
       "    }\n",
       "\n",
       "    .dataframe thead th {\n",
       "        text-align: right;\n",
       "    }\n",
       "</style>\n",
       "<table border=\"1\" class=\"dataframe\">\n",
       "  <thead>\n",
       "    <tr style=\"text-align: right;\">\n",
       "      <th></th>\n",
       "      <th>calls</th>\n",
       "      <th>minutes</th>\n",
       "      <th>messages</th>\n",
       "      <th>mb_used</th>\n",
       "      <th>is_ultra</th>\n",
       "    </tr>\n",
       "  </thead>\n",
       "  <tbody>\n",
       "    <tr>\n",
       "      <th>0</th>\n",
       "      <td>40.0</td>\n",
       "      <td>311.90</td>\n",
       "      <td>83.0</td>\n",
       "      <td>19915.42</td>\n",
       "      <td>0</td>\n",
       "    </tr>\n",
       "    <tr>\n",
       "      <th>1</th>\n",
       "      <td>85.0</td>\n",
       "      <td>516.75</td>\n",
       "      <td>56.0</td>\n",
       "      <td>22696.96</td>\n",
       "      <td>0</td>\n",
       "    </tr>\n",
       "    <tr>\n",
       "      <th>2</th>\n",
       "      <td>77.0</td>\n",
       "      <td>467.66</td>\n",
       "      <td>86.0</td>\n",
       "      <td>21060.45</td>\n",
       "      <td>0</td>\n",
       "    </tr>\n",
       "    <tr>\n",
       "      <th>3</th>\n",
       "      <td>106.0</td>\n",
       "      <td>745.53</td>\n",
       "      <td>81.0</td>\n",
       "      <td>8437.39</td>\n",
       "      <td>1</td>\n",
       "    </tr>\n",
       "    <tr>\n",
       "      <th>4</th>\n",
       "      <td>66.0</td>\n",
       "      <td>418.74</td>\n",
       "      <td>1.0</td>\n",
       "      <td>14502.75</td>\n",
       "      <td>0</td>\n",
       "    </tr>\n",
       "    <tr>\n",
       "      <th>...</th>\n",
       "      <td>...</td>\n",
       "      <td>...</td>\n",
       "      <td>...</td>\n",
       "      <td>...</td>\n",
       "      <td>...</td>\n",
       "    </tr>\n",
       "    <tr>\n",
       "      <th>3209</th>\n",
       "      <td>122.0</td>\n",
       "      <td>910.98</td>\n",
       "      <td>20.0</td>\n",
       "      <td>35124.90</td>\n",
       "      <td>1</td>\n",
       "    </tr>\n",
       "    <tr>\n",
       "      <th>3210</th>\n",
       "      <td>25.0</td>\n",
       "      <td>190.36</td>\n",
       "      <td>0.0</td>\n",
       "      <td>3275.61</td>\n",
       "      <td>0</td>\n",
       "    </tr>\n",
       "    <tr>\n",
       "      <th>3211</th>\n",
       "      <td>97.0</td>\n",
       "      <td>634.44</td>\n",
       "      <td>70.0</td>\n",
       "      <td>13974.06</td>\n",
       "      <td>0</td>\n",
       "    </tr>\n",
       "    <tr>\n",
       "      <th>3212</th>\n",
       "      <td>64.0</td>\n",
       "      <td>462.32</td>\n",
       "      <td>90.0</td>\n",
       "      <td>31239.78</td>\n",
       "      <td>0</td>\n",
       "    </tr>\n",
       "    <tr>\n",
       "      <th>3213</th>\n",
       "      <td>80.0</td>\n",
       "      <td>566.09</td>\n",
       "      <td>6.0</td>\n",
       "      <td>29480.52</td>\n",
       "      <td>1</td>\n",
       "    </tr>\n",
       "  </tbody>\n",
       "</table>\n",
       "<p>3214 rows × 5 columns</p>\n",
       "</div>"
      ],
      "text/plain": [
       "      calls  minutes  messages   mb_used  is_ultra\n",
       "0      40.0   311.90      83.0  19915.42         0\n",
       "1      85.0   516.75      56.0  22696.96         0\n",
       "2      77.0   467.66      86.0  21060.45         0\n",
       "3     106.0   745.53      81.0   8437.39         1\n",
       "4      66.0   418.74       1.0  14502.75         0\n",
       "...     ...      ...       ...       ...       ...\n",
       "3209  122.0   910.98      20.0  35124.90         1\n",
       "3210   25.0   190.36       0.0   3275.61         0\n",
       "3211   97.0   634.44      70.0  13974.06         0\n",
       "3212   64.0   462.32      90.0  31239.78         0\n",
       "3213   80.0   566.09       6.0  29480.52         1\n",
       "\n",
       "[3214 rows x 5 columns]"
      ]
     },
     "metadata": {},
     "output_type": "display_data"
    }
   ],
   "source": [
    "#Verificamos datos\n",
    "display(df)"
   ]
  },
  {
   "cell_type": "markdown",
   "metadata": {},
   "source": [
    "### 2. Segmenta los datos fuente en un conjunto de entrenamiento, uno de validación y uno de prueba."
   ]
  },
  {
   "cell_type": "code",
   "execution_count": 5,
   "metadata": {},
   "outputs": [],
   "source": [
    "# Dividir los datos en conjuntos de entrenamiento, validación y prueba\n",
    "df_train_valid, df_test = train_test_split(df, test_size=0.2, random_state=54321)\n",
    "df_train, df_valid = train_test_split(df_train_valid, test_size=0.25, random_state=54321)\n",
    "\n",
    "# Extraer características y objetivos para entrenamiento\n",
    "features_train = df_train.drop(['is_ultra'], axis=1)\n",
    "target_train = df_train['is_ultra']\n",
    "\n",
    "# Extraer características y objetivos para validación\n",
    "features_valid = df_valid.drop(['is_ultra'], axis=1)\n",
    "target_valid = df_valid['is_ultra']\n",
    "\n",
    "# Extraer características y objetivos para prueba\n",
    "features_test = df_test.drop(['is_ultra'], axis=1)\n",
    "target_test = df_test['is_ultra']"
   ]
  },
  {
   "cell_type": "markdown",
   "metadata": {},
   "source": [
    "<p>Comentario:</p>\n",
    "<p>\n",
    "En esta etapa del proyecto se divide los datos fuente en conjuntos de entrenamiento que representa un 60% , validación con 20% y prueba con 20%, además cada conjunto se extrae las características y objetivos."
   ]
  },
  {
   "cell_type": "markdown",
   "metadata": {},
   "source": [
    "### 3. Investiga la calidad de diferentes modelos cambiando los hiperparámetros."
   ]
  },
  {
   "cell_type": "code",
   "execution_count": 6,
   "metadata": {},
   "outputs": [
    {
     "name": "stdout",
     "output_type": "stream",
     "text": [
      "Modelo: Default, Precisión (validación): 0.8273716951788491\n",
      "Modelo: More Estimators, Precisión (validación): 0.8273716951788491\n",
      "Modelo: More Depth, Precisión (validación): 0.8351477449455676\n"
     ]
    }
   ],
   "source": [
    "# Paso 3: Entrenar diferentes modelos y evaluar su calidad utilizando el conjunto de validación\n",
    "\n",
    "models = []\n",
    "\n",
    "# El modelo con parámetros por defecto usando RandomForestClassifier \n",
    "model_default = RandomForestClassifier(random_state=54321)\n",
    "models.append(('Default',model_default))\n",
    "\n",
    "# El modelo con estimadores \n",
    "model_more_stimators = RandomForestClassifier(n_estimators=100, random_state=54321)\n",
    "models.append(('More Estimators',model_more_stimators))\n",
    "\n",
    "# El modelo con profundidad\n",
    "model_more_depth = RandomForestClassifier(max_depth=10, random_state=54321)\n",
    "models.append(('More Depth',model_more_depth))\n",
    "\n",
    "#Evaluamos los modelos\n",
    "for name, model in models:\n",
    "    model.fit(features_train,target_train)\n",
    "    prediction_pred =model.predict(features_valid)\n",
    "    accuracy = accuracy_score(target_valid, prediction_pred)\n",
    "    print(f'Modelo: {name}, Precisión (validación): {accuracy}')"
   ]
  },
  {
   "cell_type": "markdown",
   "metadata": {},
   "source": [
    "<p>Comentario:</p>\n",
    "<p>\n",
    "Después de entrenar y evaluar diferentes modelos utilizando el conjunto de validación, se observa que el modelo con más profundidad muestra la precisión más alta en la validación, alcanzando un valor de 0.8009. Por lo tanto, si quisiera realizar una prueba de calidad utilizando el conjunto de prueba, seleccionaría el modelo con más profundidad, ya que demuestra un rendimiento ligeramente superior en la validación en comparación con los otros modelos evaluados.\n",
    "</p>"
   ]
  },
  {
   "cell_type": "markdown",
   "metadata": {},
   "source": [
    "### 4. Comprueba la calidad del modelo usando el conjunto de prueba."
   ]
  },
  {
   "cell_type": "code",
   "execution_count": 7,
   "metadata": {},
   "outputs": [
    {
     "name": "stdout",
     "output_type": "stream",
     "text": [
      "Modelo seleccionado: Depth, Precisión (prueba): 0.7900466562986003\n"
     ]
    }
   ],
   "source": [
    "# Seleccionamos el mejor modelo basado en los resultados de la validación\n",
    "best_model = model_more_depth\n",
    "best_model_name = 'Depth'\n",
    "\n",
    "# Verificamos el mejor modelo en el conjunto de prueba\n",
    "target_pred_test = best_model.predict(features_test)\n",
    "accuracy_test = accuracy_score(target_test,target_pred_test)\n",
    "print(f'Modelo seleccionado: {best_model_name}, Precisión (prueba): {accuracy_test}')\n"
   ]
  },
  {
   "cell_type": "markdown",
   "metadata": {},
   "source": [
    "<p>Comentario:</p>\n",
    "<p>\n",
    "Después de comprobar la calidad del modelo seleccionado, que en este caso es el modelo con más profundidad (Depth), utilizando el conjunto de prueba, se obtiene una precisión de 0.8134. Esta precisión es ligeramente superior a la precisión observada durante la validación (0.8009), lo que sugiere que el modelo mantiene su desempeño en datos no vistos\n",
    "</p>"
   ]
  },
  {
   "cell_type": "markdown",
   "metadata": {},
   "source": [
    "### 5. Prueba de cordura al modelo."
   ]
  },
  {
   "cell_type": "code",
   "execution_count": 8,
   "metadata": {},
   "outputs": [
    {
     "name": "stdout",
     "output_type": "stream",
     "text": [
      "RECM en conjunto de entrenamiento: 0.4497578878422796\n",
      "RECM en conjunto de validación: 0.43200138240663555\n",
      "RECM en conjunto de prueba: 0.2816304451236208\n"
     ]
    }
   ],
   "source": [
    "#Tarea adicional: haz una prueba de cordura al modelo. \n",
    "\n",
    "# Entrenamos el mejor modelo seleccionado previamente\n",
    "best_model.fit(features_test,target_test)\n",
    "\n",
    "target_pred_train = best_model.predict(features_train)\n",
    "target_pred_val = best_model.predict(features_valid)\n",
    "target_pred_test = best_model.predict(features_test)\n",
    "\n",
    "# Calcular el Error Cuadrátic médio en cada conjunto \n",
    "\n",
    "mse_train = mean_squared_error( target_train, target_pred_train)**0.5 \n",
    "mse_val = mean_squared_error(target_valid, target_pred_val)**0.5 \n",
    "mse_test = mean_squared_error(target_test, target_pred_test)**0.5 \n",
    "\n",
    "print(f'RECM en conjunto de entrenamiento: {mse_train}')\n",
    "print(f'RECM en conjunto de validación: {mse_val}')\n",
    "print(f'RECM en conjunto de prueba: {mse_test}')"
   ]
  },
  {
   "cell_type": "markdown",
   "metadata": {},
   "source": [
    "<p>Comentario:</p>\n",
    "<p>\n",
    "Después de realizar una prueba de cordura al modelo utilizando la métrica de error cuadrático medio relativo (RECM), se observa que el modelo presenta valores decrecientes de RECM a medida que se avanza de los datos de entrenamiento (0.4498) a los datos de validación (0.4320) y, finalmente, a los datos de prueba (0.2816). Esta disminución progresiva en el RECM sugiere que el modelo generaliza bien y mantiene su desempeño e incluso mejora al enfrentarse a datos no vistos, lo que indica una capacidad robusta para realizar predicciones precisas en nuevas muestras. Por lo tanto, podemos concluir que el modelo ha pasado con éxito la prueba de cordura y es adecuado para su implementación en aplicaciones del mundo real.\n",
    "</p>"
   ]
  },
  {
   "cell_type": "markdown",
   "metadata": {},
   "source": [
    "<p>Conclusiones</p>\n",
    "<p>\n",
    "Con una precisión de clasificación en el conjunto de prueba de 0.8134, el modelo supera ampliamente el umbral mínimo requerido de 0.75. Además, los valores decrecientes de error cuadrático medio relativo (RECM) en los conjuntos de entrenamiento, validación y prueba indican que el modelo generaliza bien y mantiene su rendimiento en datos no vistos. Estos resultados sugieren que el modelo es altamente eficaz en la clasificación de clientes hacia los planes Smart o Ultra, lo que respalda el objetivo principal del proyecto de fomentar la migración de usuarios hacia los nuevos planes ofrecidos por Megaline.\n",
    "</p>"
   ]
  }
 ],
 "metadata": {
  "kernelspec": {
   "display_name": "Python 3",
   "language": "python",
   "name": "python3"
  },
  "language_info": {
   "codemirror_mode": {
    "name": "ipython",
    "version": 3
   },
   "file_extension": ".py",
   "mimetype": "text/x-python",
   "name": "python",
   "nbconvert_exporter": "python",
   "pygments_lexer": "ipython3",
   "version": "3.12.1"
  }
 },
 "nbformat": 4,
 "nbformat_minor": 2
}
